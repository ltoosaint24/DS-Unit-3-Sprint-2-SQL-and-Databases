{
  "nbformat": 4,
  "nbformat_minor": 0,
  "metadata": {
    "colab": {
      "name": "northwind.py",
      "provenance": [],
      "authorship_tag": "ABX9TyPNI8NC9tSBzddHmOQdbJw3",
      "include_colab_link": true
    },
    "kernelspec": {
      "name": "python3",
      "display_name": "Python 3"
    },
    "language_info": {
      "name": "python"
    }
  },
  "cells": [
    {
      "cell_type": "markdown",
      "metadata": {
        "id": "view-in-github",
        "colab_type": "text"
      },
      "source": [
        "<a href=\"https://colab.research.google.com/github/ltoosaint24/DS-Unit-3-Sprint-2-SQL-and-Databases/blob/master/northwind_py.ipynb\" target=\"_parent\"><img src=\"https://colab.research.google.com/assets/colab-badge.svg\" alt=\"Open In Colab\"/></a>"
      ]
    },
    {
      "cell_type": "code",
      "metadata": {
        "id": "BsppG0G9krBo"
      },
      "source": [
        ""
      ],
      "execution_count": null,
      "outputs": []
    },
    {
      "cell_type": "markdown",
      "metadata": {
        "id": "wevrWlEaSdCX"
      },
      "source": [
        "Part II- Northwid Database"
      ]
    },
    {
      "cell_type": "code",
      "metadata": {
        "id": "RggUd-ybMINv"
      },
      "source": [
        "import sqlite3\n",
        "import numpy as numy\n",
        "import pandas as pd\n",
        "import random"
      ],
      "execution_count": null,
      "outputs": []
    },
    {
      "cell_type": "code",
      "metadata": {
        "id": "CcscDG0rSu9d"
      },
      "source": [
        "xon = sqlite3.connect('/content/northwind_small.sqlite3')"
      ],
      "execution_count": null,
      "outputs": []
    },
    {
      "cell_type": "code",
      "metadata": {
        "id": "bTI-X_0yXcbw"
      },
      "source": [
        "xo = xon.cursor()"
      ],
      "execution_count": null,
      "outputs": []
    },
    {
      "cell_type": "code",
      "metadata": {
        "colab": {
          "base_uri": "https://localhost:8080/"
        },
        "id": "xwpyLqttSv28",
        "outputId": "cab67373-0e45-4c17-8345-48ebae944d5b"
      },
      "source": [
        "\n",
        "DF = pd.read_sql_query('SELECT * FROM OrderDetail GROUP BY UnitPrice ORDER BY UnitPrice DESC  LIMIT 10', xon)\n",
        "print(DF)\n",
        "expensive_items =DF.head(10)"
      ],
      "execution_count": null,
      "outputs": [
        {
          "output_type": "stream",
          "text": [
            "         Id  OrderId  ProductId  UnitPrice  Quantity  Discount\n",
            "0  11032/38    11032         38     263.50        25      0.00\n",
            "1  10479/38    10479         38     210.80        30      0.00\n",
            "2  11030/29    11030         29     123.79        60      0.25\n",
            "3  10465/29    10465         29      99.00        18      0.10\n",
            "4   10848/9    10848          9      97.00         3      0.00\n",
            "5  11077/20    11077         20      81.00         1      0.04\n",
            "6   10420/9    10420          9      77.60        20      0.10\n",
            "7  10384/20    10384         20      64.80        28      0.00\n",
            "8  11053/18    11053         18      62.50        35      0.20\n",
            "9  11036/59    11036         59      55.00        30      0.00\n"
          ],
          "name": "stdout"
        }
      ]
    },
    {
      "cell_type": "code",
      "metadata": {
        "colab": {
          "base_uri": "https://localhost:8080/"
        },
        "id": "KfXq7iCeSzTs",
        "outputId": "ee919f2b-9352-42e4-aacb-9006958294f1"
      },
      "source": [
        "emp =pd.read_sql_query('SELECT Avg(HireDate-Birthdate) FROM Employee',xon)\n",
        "print(emp.columns)\n",
        "print(emp)\n",
        "avg_hire_age = emp\n",
        "print(avg_hire_age)"
      ],
      "execution_count": null,
      "outputs": [
        {
          "output_type": "stream",
          "text": [
            "Index(['Avg(HireDate-Birthdate)'], dtype='object')\n",
            "   Avg(HireDate-Birthdate)\n",
            "0                37.222222\n",
            "   Avg(HireDate-Birthdate)\n",
            "0                37.222222\n"
          ],
          "name": "stdout"
        }
      ]
    },
    {
      "cell_type": "code",
      "metadata": {
        "colab": {
          "base_uri": "https://localhost:8080/"
        },
        "id": "qEimP2sES2Sv",
        "outputId": "325d7d1a-f242-4ec3-a488-531905b6f3a6"
      },
      "source": [
        "er = pd.read_sql_query('Select city, AVG(HireDate -Birthdate) from Employee GROUP BY city',xon)\n",
        "avg_age_by_city = print(er)"
      ],
      "execution_count": null,
      "outputs": [
        {
          "output_type": "stream",
          "text": [
            "       City  AVG(HireDate -Birthdate)\n",
            "0  Kirkland                      29.0\n",
            "1    London                      32.5\n",
            "2   Redmond                      56.0\n",
            "3   Seattle                      40.0\n",
            "4    Tacoma                      40.0\n"
          ],
          "name": "stdout"
        }
      ]
    },
    {
      "cell_type": "code",
      "metadata": {
        "colab": {
          "base_uri": "https://localhost:8080/",
          "height": 317
        },
        "id": "uBDM3-zlfigR",
        "outputId": "94fb5570-eeff-46e7-f068-12f6bb0f3992"
      },
      "source": [
        "pd.read_sql_query('Select EmployeeId, Count(TerritoryId) from EmployeeTerritory GROUP BY EmployeeId ORDER BY Count(TerritoryId) DESC',xon)"
      ],
      "execution_count": null,
      "outputs": [
        {
          "output_type": "execute_result",
          "data": {
            "text/html": [
              "<div>\n",
              "<style scoped>\n",
              "    .dataframe tbody tr th:only-of-type {\n",
              "        vertical-align: middle;\n",
              "    }\n",
              "\n",
              "    .dataframe tbody tr th {\n",
              "        vertical-align: top;\n",
              "    }\n",
              "\n",
              "    .dataframe thead th {\n",
              "        text-align: right;\n",
              "    }\n",
              "</style>\n",
              "<table border=\"1\" class=\"dataframe\">\n",
              "  <thead>\n",
              "    <tr style=\"text-align: right;\">\n",
              "      <th></th>\n",
              "      <th>EmployeeId</th>\n",
              "      <th>Count(TerritoryId)</th>\n",
              "    </tr>\n",
              "  </thead>\n",
              "  <tbody>\n",
              "    <tr>\n",
              "      <th>0</th>\n",
              "      <td>7</td>\n",
              "      <td>10</td>\n",
              "    </tr>\n",
              "    <tr>\n",
              "      <th>1</th>\n",
              "      <td>2</td>\n",
              "      <td>7</td>\n",
              "    </tr>\n",
              "    <tr>\n",
              "      <th>2</th>\n",
              "      <td>5</td>\n",
              "      <td>7</td>\n",
              "    </tr>\n",
              "    <tr>\n",
              "      <th>3</th>\n",
              "      <td>9</td>\n",
              "      <td>7</td>\n",
              "    </tr>\n",
              "    <tr>\n",
              "      <th>4</th>\n",
              "      <td>6</td>\n",
              "      <td>5</td>\n",
              "    </tr>\n",
              "    <tr>\n",
              "      <th>5</th>\n",
              "      <td>3</td>\n",
              "      <td>4</td>\n",
              "    </tr>\n",
              "    <tr>\n",
              "      <th>6</th>\n",
              "      <td>8</td>\n",
              "      <td>4</td>\n",
              "    </tr>\n",
              "    <tr>\n",
              "      <th>7</th>\n",
              "      <td>4</td>\n",
              "      <td>3</td>\n",
              "    </tr>\n",
              "    <tr>\n",
              "      <th>8</th>\n",
              "      <td>1</td>\n",
              "      <td>2</td>\n",
              "    </tr>\n",
              "  </tbody>\n",
              "</table>\n",
              "</div>"
            ],
            "text/plain": [
              "   EmployeeId  Count(TerritoryId)\n",
              "0           7                  10\n",
              "1           2                   7\n",
              "2           5                   7\n",
              "3           9                   7\n",
              "4           6                   5\n",
              "5           3                   4\n",
              "6           8                   4\n",
              "7           4                   3\n",
              "8           1                   2"
            ]
          },
          "metadata": {
            "tags": []
          },
          "execution_count": 73
        }
      ]
    },
    {
      "cell_type": "code",
      "metadata": {
        "id": "aiFwXbu2llF4"
      },
      "source": [
        ""
      ],
      "execution_count": null,
      "outputs": []
    },
    {
      "cell_type": "code",
      "metadata": {
        "colab": {
          "base_uri": "https://localhost:8080/"
        },
        "id": "cU-T2gMzTQ_f",
        "outputId": "f038fc8e-2169-4c5b-cb0c-bc58910e07f3"
      },
      "source": [
        "dff = pd.read_sql_query('SELECT Supplier.CompanyName, OrderDetail.Id, OrderDetail.OrderId, OrderDetail.ProductId, OrderDetail.UnitPrice FROM OrderDetail, Supplier WHERE OrderDetail.Id = Supplier.Id  GROUP BY UnitPrice ORDER BY OrderDetail.UnitPrice DESC  LIMIT 10', xon)\n",
        "print(dff)\n",
        "expensive_items =dff.head(10)\n",
        "ten_most_expensive = print(dff)"
      ],
      "execution_count": null,
      "outputs": [
        {
          "output_type": "stream",
          "text": [
            "Empty DataFrame\n",
            "Columns: [CompanyName, Id, OrderId, ProductId, UnitPrice]\n",
            "Index: []\n",
            "Empty DataFrame\n",
            "Columns: [CompanyName, Id, OrderId, ProductId, UnitPrice]\n",
            "Index: []\n"
          ],
          "name": "stdout"
        }
      ]
    },
    {
      "cell_type": "code",
      "metadata": {
        "colab": {
          "base_uri": "https://localhost:8080/"
        },
        "id": "ztjo6Al9TT5o",
        "outputId": "065ced62-2e0d-439d-8386-d8a8303269cb"
      },
      "source": [
        "largest_category=pd.read_sql_query('Select CategoryName, MAX(Description) from Category',xon)\n",
        "print(largest_category)"
      ],
      "execution_count": null,
      "outputs": [
        {
          "output_type": "stream",
          "text": [
            "  CategoryName                                   MAX(Description)\n",
            "0   Condiments  Sweet and savory sauces, relishes, spreads, an...\n"
          ],
          "name": "stdout"
        }
      ]
    },
    {
      "cell_type": "code",
      "metadata": {
        "colab": {
          "base_uri": "https://localhost:8080/"
        },
        "id": "g40HKqRETWJa",
        "outputId": "fd71437c-7e08-4175-b6c3-2da0d456dda1"
      },
      "source": [
        "most_territories = pd.read_sql_query('Select EmployeeId, Count(TerritoryId) from EmployeeTerritory GROUP BY EmployeeId ORDER BY Count(TerritoryId) DESC',xon)\n",
        "print(most_territories)"
      ],
      "execution_count": null,
      "outputs": [
        {
          "output_type": "stream",
          "text": [
            "   EmployeeId  Count(TerritoryId)\n",
            "0           7                  10\n",
            "1           2                   7\n",
            "2           5                   7\n",
            "3           9                   7\n",
            "4           6                   5\n",
            "5           3                   4\n",
            "6           8                   4\n",
            "7           4                   3\n",
            "8           1                   2\n"
          ],
          "name": "stdout"
        }
      ]
    },
    {
      "cell_type": "markdown",
      "metadata": {
        "id": "U8OtAXyHTc1G"
      },
      "source": [
        "Part IV - Questions\n",
        "\n",
        "1. The Territory table can be considered to be another class table, while it may contain subclass items, such as TerritoryId can be utilized as connecting variables in subclass tables within Employee, such as EmployeeTerritory tables.\n",
        "\n",
        "2.MongoDB is appropriate within maintianing large data sets, or Big Data. It may not be suitable for the database that require direct access.\n",
        "\n",
        "3.NewSQL is a way of reformating how database are stored. This usually intends to create various environment that supports the storage of databased when dealing with big data sets. They are associated within new SQL database platforms."
      ]
    }
  ]
}