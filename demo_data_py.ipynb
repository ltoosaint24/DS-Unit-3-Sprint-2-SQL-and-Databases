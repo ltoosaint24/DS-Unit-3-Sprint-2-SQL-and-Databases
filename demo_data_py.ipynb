{
  "nbformat": 4,
  "nbformat_minor": 0,
  "metadata": {
    "colab": {
      "name": "demo_data.py",
      "provenance": [],
      "authorship_tag": "ABX9TyP/AdEonJN4CDPhIdYX/fuQ",
      "include_colab_link": true
    },
    "kernelspec": {
      "name": "python3",
      "display_name": "Python 3"
    },
    "language_info": {
      "name": "python"
    }
  },
  "cells": [
    {
      "cell_type": "markdown",
      "metadata": {
        "id": "view-in-github",
        "colab_type": "text"
      },
      "source": [
        "<a href=\"https://colab.research.google.com/github/ltoosaint24/DS-Unit-3-Sprint-2-SQL-and-Databases/blob/master/demo_data_py.ipynb\" target=\"_parent\"><img src=\"https://colab.research.google.com/assets/colab-badge.svg\" alt=\"Open In Colab\"/></a>"
      ]
    },
    {
      "cell_type": "code",
      "metadata": {
        "id": "RggUd-ybMINv"
      },
      "source": [
        "import sqlite3\n",
        "import numpy as numy\n",
        "import pandas as pd\n",
        "import random"
      ],
      "execution_count": 1,
      "outputs": []
    },
    {
      "cell_type": "code",
      "metadata": {
        "id": "_vlGcqMZNrc3"
      },
      "source": [
        "con = sqlite3.connect('/content/demo_dat.sqlite3')"
      ],
      "execution_count": 3,
      "outputs": []
    },
    {
      "cell_type": "code",
      "metadata": {
        "colab": {
          "base_uri": "https://localhost:8080/",
          "height": 238
        },
        "id": "tQSMKXEwOGbe",
        "outputId": "22213e29-5304-4de7-dd93-f1134f6b9f5b"
      },
      "source": [
        "cur = con.cursor()\n",
        "cur.executescript(\"\"\"CREATE TABLE demo(s,x,y);\"\"\")\n"
      ],
      "execution_count": 8,
      "outputs": [
        {
          "output_type": "error",
          "ename": "OperationalError",
          "evalue": "ignored",
          "traceback": [
            "\u001b[0;31m---------------------------------------------------------------------------\u001b[0m",
            "\u001b[0;31mOperationalError\u001b[0m                          Traceback (most recent call last)",
            "\u001b[0;32m<ipython-input-8-7612b992982d>\u001b[0m in \u001b[0;36m<module>\u001b[0;34m()\u001b[0m\n\u001b[1;32m      1\u001b[0m \u001b[0mcur\u001b[0m \u001b[0;34m=\u001b[0m \u001b[0mcon\u001b[0m\u001b[0;34m.\u001b[0m\u001b[0mcursor\u001b[0m\u001b[0;34m(\u001b[0m\u001b[0;34m)\u001b[0m\u001b[0;34m\u001b[0m\u001b[0;34m\u001b[0m\u001b[0m\n\u001b[0;32m----> 2\u001b[0;31m \u001b[0mcur\u001b[0m\u001b[0;34m.\u001b[0m\u001b[0mexecutescript\u001b[0m\u001b[0;34m(\u001b[0m\u001b[0;34m\"\"\"CREATE TABLE demo(s,x,y);\"\"\"\u001b[0m\u001b[0;34m)\u001b[0m\u001b[0;34m\u001b[0m\u001b[0;34m\u001b[0m\u001b[0m\n\u001b[0m\u001b[1;32m      3\u001b[0m cur.executescript(\"\"\"INSERT into demo(s,x,y)\n\u001b[1;32m      4\u001b[0m               \u001b[0mvalues\u001b[0m\u001b[0;34m(\u001b[0m\u001b[0;34m'g'\u001b[0m\u001b[0;34m,\u001b[0m\u001b[0;36m3\u001b[0m\u001b[0;34m,\u001b[0m\u001b[0;36m9\u001b[0m\u001b[0;34m)\u001b[0m\u001b[0;34m,\u001b[0m\u001b[0;34m\u001b[0m\u001b[0;34m\u001b[0m\u001b[0m\n\u001b[1;32m      5\u001b[0m               \u001b[0;34m(\u001b[0m\u001b[0;34m'v'\u001b[0m\u001b[0;34m,\u001b[0m\u001b[0;36m5\u001b[0m\u001b[0;34m,\u001b[0m\u001b[0;36m7\u001b[0m\u001b[0;34m)\u001b[0m\u001b[0;34m,\u001b[0m\u001b[0;34m\u001b[0m\u001b[0;34m\u001b[0m\u001b[0m\n",
            "\u001b[0;31mOperationalError\u001b[0m: table demo already exists"
          ]
        }
      ]
    },
    {
      "cell_type": "code",
      "metadata": {
        "id": "WhREYS1eRMcQ"
      },
      "source": [
        "cur.executescript(\"\"\"INSERT into demo(s,x,y)\n",
        "              values('g',3,9),\n",
        "              ('v',5,7),\n",
        "              ('f',8,7);\"\"\")\n",
        "con.commit()\n",
        "cur.close"
      ],
      "execution_count": 9,
      "outputs": []
    },
    {
      "cell_type": "code",
      "metadata": {
        "colab": {
          "base_uri": "https://localhost:8080/"
        },
        "id": "776XWLsxRQ_U",
        "outputId": "a74b08c9-ea2e-4d41-f20c-43e2ef65b349"
      },
      "source": [
        "coy = con.cursor()\n",
        "row_count = coy.execute(\"SELECT COUNT(*) FROM demo\")\n",
        "print(coy.fetchall())"
      ],
      "execution_count": 17,
      "outputs": [
        {
          "output_type": "stream",
          "text": [
            "[(3,)]\n"
          ],
          "name": "stdout"
        }
      ]
    },
    {
      "cell_type": "code",
      "metadata": {
        "colab": {
          "base_uri": "https://localhost:8080/"
        },
        "id": "hsSQ9LkLSTvL",
        "outputId": "253e336a-418b-4bd0-8868-d09a526047b7"
      },
      "source": [
        "\n",
        "coy.execute('SELECT COUNT(*) FROM demo WHERE x >5 and y >5 ')\n",
        "xy_at_least_5 =coy.fetchall()\n",
        "print(xy_at_least_5)\n"
      ],
      "execution_count": 19,
      "outputs": [
        {
          "output_type": "stream",
          "text": [
            "[(1,)]\n"
          ],
          "name": "stdout"
        }
      ]
    },
    {
      "cell_type": "code",
      "metadata": {
        "colab": {
          "base_uri": "https://localhost:8080/"
        },
        "id": "FdedNVtkSXdf",
        "outputId": "24872970-de03-476b-8c82-43f6ffe190da"
      },
      "source": [
        "coy.execute('SELECT COUNT(DISTINCT y) FROM Demo')\n",
        "unique_y = coy.fetchall()\n",
        "print(unique_y)"
      ],
      "execution_count": 20,
      "outputs": [
        {
          "output_type": "stream",
          "text": [
            "[(2,)]\n"
          ],
          "name": "stdout"
        }
      ]
    },
    {
      "cell_type": "code",
      "metadata": {
        "id": "H57hCp5iTZjP"
      },
      "source": [
        ""
      ],
      "execution_count": null,
      "outputs": []
    }
  ]
}